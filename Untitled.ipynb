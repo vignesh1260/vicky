{
 "cells": [
  {
   "cell_type": "code",
   "execution_count": 2,
   "id": "345abfec-f4d0-4b1a-8b11-85396faf2a2e",
   "metadata": {},
   "outputs": [
    {
     "name": "stdout",
     "output_type": "stream",
     "text": [
      "Accuracy: 0.6347588264545002\n",
      "Precision: 0.6315684348118621\n",
      "Recall: 0.6347588264545002\n",
      "F1-Score: 0.6253012890384462\n",
      "Confusion Matrix:\n",
      "[[ 906  258  161]\n",
      " [ 127 1169  206]\n",
      " [ 244  473  478]]\n"
     ]
    },
    {
     "data": {
      "text/plain": [
       "['label_encoder.pkl']"
      ]
     },
     "execution_count": 2,
     "metadata": {},
     "output_type": "execute_result"
    }
   ],
   "source": [
    "# load_data.py\n",
    "import pandas as pd\n",
    "from sklearn.model_selection import train_test_split\n",
    "from sklearn.feature_extraction.text import TfidfVectorizer\n",
    "from sklearn.linear_model import LogisticRegression\n",
    "from sklearn.metrics import accuracy_score, precision_score, recall_score, f1_score, confusion_matrix\n",
    "from sklearn.preprocessing import LabelEncoder\n",
    "import joblib\n",
    "\n",
    "# Load dataset\n",
    "file_path = r'C:\\Users\\admin\\Downloads\\archive\\final_hateXplain.csv'\n",
    "data = pd.read_csv(file_path)\n",
    "\n",
    "# Define the features and labels\n",
    "X = data['comment']\n",
    "y = data['label']\n",
    "\n",
    "# Encode the labels (normal, offensive, hatespeech)\n",
    "label_encoder = LabelEncoder()\n",
    "y_encoded = label_encoder.fit_transform(y)\n",
    "\n",
    "# Split data into training and test sets\n",
    "X_train, X_test, y_train, y_test = train_test_split(X, y_encoded, test_size=0.2, random_state=42)\n",
    "\n",
    "# Feature extraction using TF-IDF\n",
    "vectorizer = TfidfVectorizer()\n",
    "X_train_tfidf = vectorizer.fit_transform(X_train)\n",
    "X_test_tfidf = vectorizer.transform(X_test)\n",
    "\n",
    "# Train the Logistic Regression model\n",
    "model = LogisticRegression()\n",
    "model.fit(X_train_tfidf, y_train)\n",
    "\n",
    "# Evaluate the model\n",
    "y_pred = model.predict(X_test_tfidf)\n",
    "print(f'Accuracy: {accuracy_score(y_test, y_pred)}')\n",
    "print(f'Precision: {precision_score(y_test, y_pred, average=\"weighted\")}')\n",
    "print(f'Recall: {recall_score(y_test, y_pred, average=\"weighted\")}')\n",
    "print(f'F1-Score: {f1_score(y_test, y_pred, average=\"weighted\")}')\n",
    "print(f'Confusion Matrix:\\n{confusion_matrix(y_test, y_pred)}')\n",
    "\n",
    "# Save the model, vectorizer, and label encoder\n",
    "joblib.dump(model, 'final_model.pkl')\n",
    "joblib.dump(vectorizer, 'final_vectorizer.pkl')\n",
    "joblib.dump(label_encoder, 'label_encoder.pkl')\n"
   ]
  },
  {
   "cell_type": "code",
   "execution_count": null,
   "id": "eb984414-5c10-41cb-9f20-e87f177f07fe",
   "metadata": {},
   "outputs": [],
   "source": []
  }
 ],
 "metadata": {
  "kernelspec": {
   "display_name": "Python 3 (ipykernel)",
   "language": "python",
   "name": "python3"
  },
  "language_info": {
   "codemirror_mode": {
    "name": "ipython",
    "version": 3
   },
   "file_extension": ".py",
   "mimetype": "text/x-python",
   "name": "python",
   "nbconvert_exporter": "python",
   "pygments_lexer": "ipython3",
   "version": "3.12.7"
  }
 },
 "nbformat": 4,
 "nbformat_minor": 5
}
